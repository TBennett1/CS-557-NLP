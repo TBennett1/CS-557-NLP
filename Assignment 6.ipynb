{
 "cells": [
  {
   "cell_type": "markdown",
   "metadata": {},
   "source": [
    "Tarquin Bennett"
   ]
  },
  {
   "cell_type": "markdown",
   "metadata": {},
   "source": [
    "# Question 1 "
   ]
  },
  {
   "cell_type": "code",
   "execution_count": 1,
   "metadata": {},
   "outputs": [
    {
     "name": "stdout",
     "output_type": "stream",
     "text": [
      "[('The', 'DT'), ('book', 'NN'), ('is', 'VBZ'), ('not', 'RB'), ('on', 'IN'), ('the', 'DT'), ('table', 'NN'), (',', ','), ('it', 'PRP'), ('is', 'VBZ'), ('in', 'IN'), ('my', 'PRP$'), ('backpack', 'NN')]\n",
      "[('Book', 'IN'), ('the', 'DT'), ('cooks', 'NNS'), ('who', 'WP'), ('cook', 'VBP'), ('the', 'DT'), ('books', 'NNS')]\n"
     ]
    }
   ],
   "source": [
    "import nltk\n",
    "\n",
    "text1 = nltk.word_tokenize(\"The book is not on the table, it is in my backpack\")\n",
    "text2 = nltk.word_tokenize(\"Book the cooks who cook the books\")\n",
    "\n",
    "print(nltk.pos_tag(text1))\n",
    "print(nltk.pos_tag(text2))"
   ]
  },
  {
   "cell_type": "markdown",
   "metadata": {},
   "source": [
    "In the first sentence, both on and in have the same part of speech. For the second sentence, book has different parts of speech. This is due to the word having a different meaning in both parts."
   ]
  },
  {
   "cell_type": "markdown",
   "metadata": {},
   "source": [
    "# Question 2 "
   ]
  },
  {
   "cell_type": "code",
   "execution_count": 3,
   "metadata": {},
   "outputs": [
    {
     "name": "stdout",
     "output_type": "stream",
     "text": [
      "[('Book', 'IN'), ('the', 'DT'), ('cooks', 'NNS'), ('who', 'WP'), ('cook', 'VBP'), ('the', 'DT'), ('books', 'NNS')]\n",
      "[('British', 'JJ'), ('Left', 'NNP'), ('Waffles', 'NNP'), ('on', 'IN'), ('Falkland', 'NNP'), ('Islands', 'NNP')]\n",
      "[('Juvenile', 'NNP'), ('Court', 'NNP'), ('to', 'TO'), ('Try', 'VB'), ('Shooting', 'NNP'), ('Defendant', 'NNP')]\n"
     ]
    }
   ],
   "source": [
    "import nltk\n",
    "\n",
    "text1 = nltk.word_tokenize(\"Book the cooks who cook the books\")\n",
    "text2 = nltk.word_tokenize(\"British Left Waffles on Falkland Islands\")\n",
    "text3 = nltk.word_tokenize(\"Juvenile Court to Try Shooting Defendant\")\n",
    "\n",
    "print(nltk.pos_tag(text1))\n",
    "print(nltk.pos_tag(text2))\n",
    "print(nltk.pos_tag(text3))"
   ]
  },
  {
   "cell_type": "markdown",
   "metadata": {},
   "source": [
    "Knowing the parts-of-speech does help remove the ambiguity. This is because it helps us know what type of noun certain words are which is where most of the ambiguity comes from."
   ]
  },
  {
   "cell_type": "markdown",
   "metadata": {},
   "source": [
    "# Question 3"
   ]
  },
  {
   "cell_type": "markdown",
   "metadata": {},
   "source": [
    "Wh-NP PP VP"
   ]
  },
  {
   "cell_type": "markdown",
   "metadata": {},
   "source": [
    "# Question 4 "
   ]
  },
  {
   "cell_type": "markdown",
   "metadata": {},
   "source": [
    "| ID | Description | Distinctive Feature(s) | Similar To |\n",
    "| :-- | :-- | :-- | :-- |\n",
    "| The Default Tagger | Tags every word with the same tag | This helps with the robustness of a language processing system| N/A |\n",
    "| Regular Expression Tagger | tags to tokens on the basis of matching patterns | need to predefine the patterns | Default tagger since the general case just tags as a noun |\n",
    "| The Lookup Tagger | gets the the hundred most frequent words and store their most likely tag | if it does not know the word it gets tagged with NONE. also has a nearly half correct rate | regular expression because it matches on a predetermined set |\n",
    "| Unigram taggers | based on a simple statistical algorithm: for each token, assign the tag that is most likely for that particular token | must be trained and takes how the word is commonly used in to account | lookup tagger |\n",
    "| General N-Gram Tagger | generalization of the unigram tagger whose context is the current word together with the part-of-speech tags of the n-1 preceding tokens | takes the context of the previous words in to account | unigram taggers |"
   ]
  },
  {
   "cell_type": "markdown",
   "metadata": {},
   "source": [
    "# Question 5 "
   ]
  },
  {
   "cell_type": "code",
   "execution_count": 5,
   "metadata": {},
   "outputs": [],
   "source": [
    "from nltk.book import *"
   ]
  },
  {
   "cell_type": "code",
   "execution_count": 2,
   "metadata": {},
   "outputs": [
    {
     "name": "stdout",
     "output_type": "stream",
     "text": [
      "Though in many natural objects, whiteness refiningly enhances beauty,\r\n",
      "as if imparting some special virtue of its own, as in marbles,\r\n",
      "japonicas, and pearls; and though various nations have in some way\r\n",
      "recognised a certain royal preeminence in this hue; even the\r\n",
      "barbaric, grand old kings of Pegu placing the title \"Lord of the\r\n",
      "White Elephants\" above all their other magniloquent ascriptions of\r\n",
      "dominion; and the modern kings of Siam unfurling the same snow-white\r\n",
      "quadruped in the royal standard; and the Hanoverian flag bearing the\r\n",
      "one figure of a snow-white charger; and the great Austrian Empire,\r\n",
      "Caesarian, heir to overlording Rome, having for the imperial colour\r\n",
      "the same imperial hue; and though this pre-eminence in it applies to\r\n",
      "the human race itself, giving the white man ideal mastership over\r\n",
      "every dusky tribe; and though, besides, all this, whiteness has been\r\n",
      "even made significant of gladness, for among the Romans a white stone\r\n",
      "marked a joyful day; and though in other mortal sympathies and\r\n",
      "symbolizings, this same hue is made the emblem of many touching,\r\n",
      "noble things--the innocence of brides, the benignity of age; though\r\n",
      "among the Red Men of America the giving of the white belt of wampum\r\n",
      "was the deepest pledge of honour; though in many climes, whiteness\r\n",
      "typifies the majesty of Justice in the ermine of the Judge, and\r\n",
      "contributes to the daily state of kings and queens drawn by\r\n",
      "milk-white steeds; though even in the higher mysteries of the most\r\n",
      "august religions it has been made the symbol of the divine\r\n",
      "spotlessness and power; by the Persian fire worshippers, the white\r\n",
      "forked flame being held the holiest on the altar; and in the Greek\r\n",
      "mythologies, Great Jove himself being made incarnate in a snow-white\r\n",
      "bull; and though to the noble Iroquois, the midwinter sacrifice of\r\n",
      "the sacred White Dog was by far the holiest festival of their\r\n",
      "theology, that spotless, faithful creature being held the purest\r\n",
      "envoy they could send to the Great Spirit with the annual tidings of\r\n",
      "their own fidelity; and though directly from the Latin word for\r\n",
      "white, all Christian priests derive the name of one part of their\r\n",
      "sacred vesture, the alb or tunic, worn beneath the cassock; and\r\n",
      "though among the holy pomps of the Romish faith, white is specially\r\n",
      "employed in the celebration of the Passion of our Lord; though in the\r\n",
      "Vision of St. John, white robes are given to the redeemed, and the\r\n",
      "four-and-twenty elders stand clothed in white before the great-white\r\n",
      "throne, and the Holy One that sitteth there white like wool; yet for\r\n",
      "all these accumulated associations, with whatever is sweet, and\r\n",
      "honourable, and sublime, there yet lurks an elusive something in the\r\n",
      "innermost idea of this hue, which strikes more of panic to the soul\r\n",
      "than that redness which affrights in blood.\n",
      "[('Though', 'IN'), ('in', 'IN'), ('many', 'JJ'), ('natural', 'JJ'), ('objects', 'NNS'), (',', ','), ('whiteness', 'NN'), ('refiningly', 'RB'), ('enhances', 'VBZ'), ('beauty', 'NN'), (',', ','), ('as', 'IN'), ('if', 'IN'), ('imparting', 'VBG'), ('some', 'DT'), ('special', 'JJ'), ('virtue', 'NN'), ('of', 'IN'), ('its', 'PRP$'), ('own', 'JJ'), (',', ','), ('as', 'IN'), ('in', 'IN'), ('marbles', 'NNS'), (',', ','), ('japonicas', 'NN'), (',', ','), ('and', 'CC'), ('pearls', 'NNS'), (';', ':'), ('and', 'CC'), ('though', 'IN'), ('various', 'JJ'), ('nations', 'NNS'), ('have', 'VBP'), ('in', 'IN'), ('some', 'DT'), ('way', 'NN'), ('recognised', 'VBD'), ('a', 'DT'), ('certain', 'JJ'), ('royal', 'JJ'), ('preeminence', 'NN'), ('in', 'IN'), ('this', 'DT'), ('hue', 'NN'), (';', ':'), ('even', 'RB'), ('the', 'DT'), ('barbaric', 'NN'), (',', ','), ('grand', 'JJ'), ('old', 'JJ'), ('kings', 'NNS'), ('of', 'IN'), ('Pegu', 'NNP'), ('placing', 'VBG'), ('the', 'DT'), ('title', 'NN'), ('``', '``'), ('Lord', 'NNP'), ('of', 'IN'), ('the', 'DT'), ('White', 'NNP'), ('Elephants', 'NNPS'), (\"''\", \"''\"), ('above', 'IN'), ('all', 'PDT'), ('their', 'PRP$'), ('other', 'JJ'), ('magniloquent', 'JJ'), ('ascriptions', 'NNS'), ('of', 'IN'), ('dominion', 'NN'), (';', ':'), ('and', 'CC'), ('the', 'DT'), ('modern', 'JJ'), ('kings', 'NNS'), ('of', 'IN'), ('Siam', 'NNP'), ('unfurling', 'VBG'), ('the', 'DT'), ('same', 'JJ'), ('snow-white', 'JJ'), ('quadruped', 'NN'), ('in', 'IN'), ('the', 'DT'), ('royal', 'JJ'), ('standard', 'NN'), (';', ':'), ('and', 'CC'), ('the', 'DT'), ('Hanoverian', 'JJ'), ('flag', 'NN'), ('bearing', 'VBG'), ('the', 'DT'), ('one', 'CD'), ('figure', 'NN'), ('of', 'IN'), ('a', 'DT'), ('snow-white', 'JJ'), ('charger', 'NN'), (';', ':'), ('and', 'CC'), ('the', 'DT'), ('great', 'JJ'), ('Austrian', 'JJ'), ('Empire', 'NNP'), (',', ','), ('Caesarian', 'NNP'), (',', ','), ('heir', 'NN'), ('to', 'TO'), ('overlording', 'VBG'), ('Rome', 'NNP'), (',', ','), ('having', 'VBG'), ('for', 'IN'), ('the', 'DT'), ('imperial', 'JJ'), ('colour', 'NN'), ('the', 'DT'), ('same', 'JJ'), ('imperial', 'JJ'), ('hue', 'NN'), (';', ':'), ('and', 'CC'), ('though', 'IN'), ('this', 'DT'), ('pre-eminence', 'NN'), ('in', 'IN'), ('it', 'PRP'), ('applies', 'VBZ'), ('to', 'TO'), ('the', 'DT'), ('human', 'JJ'), ('race', 'NN'), ('itself', 'PRP'), (',', ','), ('giving', 'VBG'), ('the', 'DT'), ('white', 'JJ'), ('man', 'NN'), ('ideal', 'NN'), ('mastership', 'NN'), ('over', 'IN'), ('every', 'DT'), ('dusky', 'JJ'), ('tribe', 'NN'), (';', ':'), ('and', 'CC'), ('though', 'IN'), (',', ','), ('besides', 'NNS'), (',', ','), ('all', 'PDT'), ('this', 'DT'), (',', ','), ('whiteness', 'NN'), ('has', 'VBZ'), ('been', 'VBN'), ('even', 'RB'), ('made', 'RBR'), ('significant', 'JJ'), ('of', 'IN'), ('gladness', 'NN'), (',', ','), ('for', 'IN'), ('among', 'IN'), ('the', 'DT'), ('Romans', 'NNPS'), ('a', 'DT'), ('white', 'JJ'), ('stone', 'NN'), ('marked', 'VBD'), ('a', 'DT'), ('joyful', 'JJ'), ('day', 'NN'), (';', ':'), ('and', 'CC'), ('though', 'IN'), ('in', 'IN'), ('other', 'JJ'), ('mortal', 'JJ'), ('sympathies', 'NNS'), ('and', 'CC'), ('symbolizings', 'NNS'), (',', ','), ('this', 'DT'), ('same', 'JJ'), ('hue', 'NN'), ('is', 'VBZ'), ('made', 'VBN'), ('the', 'DT'), ('emblem', 'NN'), ('of', 'IN'), ('many', 'JJ'), ('touching', 'NN'), (',', ','), ('noble', 'JJ'), ('things', 'NNS'), ('--', ':'), ('the', 'DT'), ('innocence', 'NN'), ('of', 'IN'), ('brides', 'NNS'), (',', ','), ('the', 'DT'), ('benignity', 'NN'), ('of', 'IN'), ('age', 'NN'), (';', ':'), ('though', 'IN'), ('among', 'IN'), ('the', 'DT'), ('Red', 'NNP'), ('Men', 'NNP'), ('of', 'IN'), ('America', 'NNP'), ('the', 'DT'), ('giving', 'VBG'), ('of', 'IN'), ('the', 'DT'), ('white', 'JJ'), ('belt', 'NN'), ('of', 'IN'), ('wampum', 'NN'), ('was', 'VBD'), ('the', 'DT'), ('deepest', 'JJS'), ('pledge', 'NN'), ('of', 'IN'), ('honour', 'NN'), (';', ':'), ('though', 'IN'), ('in', 'IN'), ('many', 'JJ'), ('climes', 'NNS'), (',', ','), ('whiteness', 'NN'), ('typifies', 'NNS'), ('the', 'DT'), ('majesty', 'NN'), ('of', 'IN'), ('Justice', 'NNP'), ('in', 'IN'), ('the', 'DT'), ('ermine', 'NN'), ('of', 'IN'), ('the', 'DT'), ('Judge', 'NNP'), (',', ','), ('and', 'CC'), ('contributes', 'VBZ'), ('to', 'TO'), ('the', 'DT'), ('daily', 'JJ'), ('state', 'NN'), ('of', 'IN'), ('kings', 'NNS'), ('and', 'CC'), ('queens', 'NNS'), ('drawn', 'VBN'), ('by', 'IN'), ('milk-white', 'JJ'), ('steeds', 'NNS'), (';', ':'), ('though', 'IN'), ('even', 'RB'), ('in', 'IN'), ('the', 'DT'), ('higher', 'JJR'), ('mysteries', 'NNS'), ('of', 'IN'), ('the', 'DT'), ('most', 'RBS'), ('august', 'JJ'), ('religions', 'NNS'), ('it', 'PRP'), ('has', 'VBZ'), ('been', 'VBN'), ('made', 'VBN'), ('the', 'DT'), ('symbol', 'NN'), ('of', 'IN'), ('the', 'DT'), ('divine', 'NN'), ('spotlessness', 'NN'), ('and', 'CC'), ('power', 'NN'), (';', ':'), ('by', 'IN'), ('the', 'DT'), ('Persian', 'NNP'), ('fire', 'NN'), ('worshippers', 'NNS'), (',', ','), ('the', 'DT'), ('white', 'JJ'), ('forked', 'JJ'), ('flame', 'NN'), ('being', 'VBG'), ('held', 'VBD'), ('the', 'DT'), ('holiest', 'NN'), ('on', 'IN'), ('the', 'DT'), ('altar', 'NN'), (';', ':'), ('and', 'CC'), ('in', 'IN'), ('the', 'DT'), ('Greek', 'JJ'), ('mythologies', 'NNS'), (',', ','), ('Great', 'NNP'), ('Jove', 'NNP'), ('himself', 'PRP'), ('being', 'VBG'), ('made', 'VBN'), ('incarnate', 'NN'), ('in', 'IN'), ('a', 'DT'), ('snow-white', 'JJ'), ('bull', 'NN'), (';', ':'), ('and', 'CC'), ('though', 'IN'), ('to', 'TO'), ('the', 'DT'), ('noble', 'JJ'), ('Iroquois', 'NNP'), (',', ','), ('the', 'DT'), ('midwinter', 'NN'), ('sacrifice', 'NN'), ('of', 'IN'), ('the', 'DT'), ('sacred', 'JJ'), ('White', 'NNP'), ('Dog', 'NNP'), ('was', 'VBD'), ('by', 'IN'), ('far', 'RB'), ('the', 'DT'), ('holiest', 'JJS'), ('festival', 'NN'), ('of', 'IN'), ('their', 'PRP$'), ('theology', 'NN'), (',', ','), ('that', 'WDT'), ('spotless', 'NN'), (',', ','), ('faithful', 'JJ'), ('creature', 'NN'), ('being', 'VBG'), ('held', 'VBD'), ('the', 'DT'), ('purest', 'JJS'), ('envoy', 'NN'), ('they', 'PRP'), ('could', 'MD'), ('send', 'VB'), ('to', 'TO'), ('the', 'DT'), ('Great', 'NNP'), ('Spirit', 'NNP'), ('with', 'IN'), ('the', 'DT'), ('annual', 'JJ'), ('tidings', 'NNS'), ('of', 'IN'), ('their', 'PRP$'), ('own', 'JJ'), ('fidelity', 'NN'), (';', ':'), ('and', 'CC'), ('though', 'IN'), ('directly', 'RB'), ('from', 'IN'), ('the', 'DT'), ('Latin', 'NNP'), ('word', 'NN'), ('for', 'IN'), ('white', 'JJ'), (',', ','), ('all', 'DT'), ('Christian', 'JJ'), ('priests', 'NNS'), ('derive', 'VBP'), ('the', 'DT'), ('name', 'NN'), ('of', 'IN'), ('one', 'CD'), ('part', 'NN'), ('of', 'IN'), ('their', 'PRP$'), ('sacred', 'JJ'), ('vesture', 'NN'), (',', ','), ('the', 'DT'), ('alb', 'NN'), ('or', 'CC'), ('tunic', 'NN'), (',', ','), ('worn', 'JJ'), ('beneath', 'IN'), ('the', 'DT'), ('cassock', 'NN'), (';', ':'), ('and', 'CC'), ('though', 'IN'), ('among', 'IN'), ('the', 'DT'), ('holy', 'JJ'), ('pomps', 'NNS'), ('of', 'IN'), ('the', 'DT'), ('Romish', 'NNP'), ('faith', 'NN'), (',', ','), ('white', 'JJ'), ('is', 'VBZ'), ('specially', 'RB'), ('employed', 'VBN'), ('in', 'IN'), ('the', 'DT'), ('celebration', 'NN'), ('of', 'IN'), ('the', 'DT'), ('Passion', 'NN'), ('of', 'IN'), ('our', 'PRP$'), ('Lord', 'NNP'), (';', ':'), ('though', 'IN'), ('in', 'IN'), ('the', 'DT'), ('Vision', 'NN'), ('of', 'IN'), ('St.', 'NNP'), ('John', 'NNP'), (',', ','), ('white', 'JJ'), ('robes', 'NNS'), ('are', 'VBP'), ('given', 'VBN'), ('to', 'TO'), ('the', 'DT'), ('redeemed', 'VBN'), (',', ','), ('and', 'CC'), ('the', 'DT'), ('four-and-twenty', 'JJ'), ('elders', 'NNS'), ('stand', 'VBP'), ('clothed', 'VBN'), ('in', 'IN'), ('white', 'JJ'), ('before', 'IN'), ('the', 'DT'), ('great-white', 'JJ'), ('throne', 'NN'), (',', ','), ('and', 'CC'), ('the', 'DT'), ('Holy', 'NNP'), ('One', 'NNP'), ('that', 'WDT'), ('sitteth', 'VBZ'), ('there', 'EX'), ('white', 'JJ'), ('like', 'IN'), ('wool', 'NN'), (';', ':'), ('yet', 'CC'), ('for', 'IN'), ('all', 'PDT'), ('these', 'DT'), ('accumulated', 'VBN'), ('associations', 'NNS'), (',', ','), ('with', 'IN'), ('whatever', 'WDT'), ('is', 'VBZ'), ('sweet', 'JJ'), (',', ','), ('and', 'CC'), ('honourable', 'JJ'), (',', ','), ('and', 'CC'), ('sublime', 'RB'), (',', ','), ('there', 'EX'), ('yet', 'RB'), ('lurks', 'VBZ'), ('an', 'DT'), ('elusive', 'JJ'), ('something', 'NN'), ('in', 'IN'), ('the', 'DT'), ('innermost', 'NN'), ('idea', 'NN'), ('of', 'IN'), ('this', 'DT'), ('hue', 'NN'), (',', ','), ('which', 'WDT'), ('strikes', 'VBZ'), ('more', 'JJR'), ('of', 'IN'), ('panic', 'NN'), ('to', 'TO'), ('the', 'DT'), ('soul', 'NN'), ('than', 'IN'), ('that', 'DT'), ('redness', 'NN'), ('which', 'WDT'), ('affrights', 'NNS'), ('in', 'IN'), ('blood', 'NN'), ('.', '.')]\n",
      "\n",
      "[('Though', 'CS'), ('in', 'IN'), ('many', 'AP'), ('natural', 'JJ'), ('objects', None), (',', ','), ('whiteness', None), ('refiningly', None), ('enhances', None), ('beauty', 'NN'), (',', ','), ('as', 'CS'), ('if', 'CS'), ('imparting', None), ('some', 'DTI'), ('special', 'JJ'), ('virtue', 'NN'), ('of', 'IN'), ('its', 'PP$'), ('own', 'JJ'), (',', ','), ('as', 'CS'), ('in', 'IN'), ('marbles', None), (',', ','), ('japonicas', None), (',', ','), ('and', 'CC'), ('pearls', None), (';', '.'), ('and', 'CC'), ('though', 'CS'), ('various', 'JJ'), ('nations', 'NNS'), ('have', 'HV'), ('in', 'IN'), ('some', 'DTI'), ('way', 'NN'), ('recognised', None), ('a', 'AT'), ('certain', 'JJ'), ('royal', 'JJ'), ('preeminence', None), ('in', 'IN'), ('this', 'DT'), ('hue', None), (';', '.'), ('even', 'RB'), ('the', 'AT'), ('barbaric', None), (',', ','), ('grand', 'JJ'), ('old', 'JJ'), ('kings', None), ('of', 'IN'), ('Pegu', None), ('placing', 'VBG'), ('the', 'AT'), ('title', 'NN'), ('``', '``'), ('Lord', 'NN-TL'), ('of', 'IN'), ('the', 'AT'), ('White', 'JJ-TL'), ('Elephants', None), (\"''\", \"''\"), ('above', 'IN'), ('all', 'ABN'), ('their', 'PP$'), ('other', 'AP'), ('magniloquent', None), ('ascriptions', None), ('of', 'IN'), ('dominion', None), (';', '.'), ('and', 'CC'), ('the', 'AT'), ('modern', 'JJ'), ('kings', None), ('of', 'IN'), ('Siam', None), ('unfurling', None), ('the', 'AT'), ('same', 'AP'), ('snow-white', None), ('quadruped', None), ('in', 'IN'), ('the', 'AT'), ('royal', 'JJ'), ('standard', 'JJ'), (';', '.'), ('and', 'CC'), ('the', 'AT'), ('Hanoverian', None), ('flag', None), ('bearing', 'VBG'), ('the', 'AT'), ('one', 'CD'), ('figure', 'NN'), ('of', 'IN'), ('a', 'AT'), ('snow-white', None), ('charger', None), (';', '.'), ('and', 'CC'), ('the', 'AT'), ('great', 'JJ'), ('Austrian', None), ('Empire', 'NN-TL'), (',', ','), ('Caesarian', None), (',', ','), ('heir', None), ('to', 'TO'), ('overlording', None), ('Rome', 'NP'), (',', ','), ('having', 'HVG'), ('for', 'IN'), ('the', 'AT'), ('imperial', None), ('colour', None), ('the', 'AT'), ('same', 'AP'), ('imperial', None), ('hue', None), (';', '.'), ('and', 'CC'), ('though', 'CS'), ('this', 'DT'), ('pre-eminence', None), ('in', 'IN'), ('it', 'PPS'), ('applies', None), ('to', 'TO'), ('the', 'AT'), ('human', 'NN'), ('race', 'NN'), ('itself', 'PPL'), (',', ','), ('giving', 'VBG'), ('the', 'AT'), ('white', 'JJ'), ('man', 'NN'), ('ideal', 'JJ'), ('mastership', None), ('over', 'IN'), ('every', 'AT'), ('dusky', None), ('tribe', 'NN'), (';', '.'), ('and', 'CC'), ('though', 'CS'), (',', ','), ('besides', None), (',', ','), ('all', 'ABN'), ('this', 'DT'), (',', ','), ('whiteness', None), ('has', 'HVZ'), ('been', 'BEN'), ('even', 'RB'), ('made', 'VBN'), ('significant', 'JJ'), ('of', 'IN'), ('gladness', None), (',', ','), ('for', 'IN'), ('among', 'IN'), ('the', 'AT'), ('Romans', 'NPS'), ('a', 'AT'), ('white', 'JJ'), ('stone', None), ('marked', 'VBN'), ('a', 'AT'), ('joyful', None), ('day', 'NN'), (';', '.'), ('and', 'CC'), ('though', 'CS'), ('in', 'IN'), ('other', 'AP'), ('mortal', 'JJ'), ('sympathies', None), ('and', 'CC'), ('symbolizings', None), (',', ','), ('this', 'DT'), ('same', 'AP'), ('hue', None), ('is', 'BEZ'), ('made', 'VBN'), ('the', 'AT'), ('emblem', None), ('of', 'IN'), ('many', 'AP'), ('touching', None), (',', ','), ('noble', 'JJ'), ('things', 'NNS'), ('--', '--'), ('the', 'AT'), ('innocence', 'NN'), ('of', 'IN'), ('brides', None), (',', ','), ('the', 'AT'), ('benignity', None), ('of', 'IN'), ('age', 'NN'), (';', '.'), ('though', 'CS'), ('among', 'IN'), ('the', 'AT'), ('Red', 'JJ-TL'), ('Men', None), ('of', 'IN'), ('America', 'NP-TL'), ('the', 'AT'), ('giving', 'VBG'), ('of', 'IN'), ('the', 'AT'), ('white', 'JJ'), ('belt', 'NN'), ('of', 'IN'), ('wampum', None), ('was', 'BEDZ'), ('the', 'AT'), ('deepest', None), ('pledge', 'NN'), ('of', 'IN'), ('honour', None), (';', '.'), ('though', 'CS'), ('in', 'IN'), ('many', 'AP'), ('climes', None), (',', ','), ('whiteness', None), ('typifies', None), ('the', 'AT'), ('majesty', None), ('of', 'IN'), ('Justice', 'NN-TL'), ('in', 'IN'), ('the', 'AT'), ('ermine', None), ('of', 'IN'), ('the', 'AT'), ('Judge', 'NN-TL'), (',', ','), ('and', 'CC'), ('contributes', None), ('to', 'TO'), ('the', 'AT'), ('daily', 'RB'), ('state', 'NN'), ('of', 'IN'), ('kings', None), ('and', 'CC'), ('queens', None), ('drawn', 'VBN'), ('by', 'IN'), ('milk-white', None), ('steeds', None), (';', '.'), ('though', 'CS'), ('even', 'RB'), ('in', 'IN'), ('the', 'AT'), ('higher', 'JJR'), ('mysteries', None), ('of', 'IN'), ('the', 'AT'), ('most', 'QL'), ('august', 'JJ'), ('religions', 'NNS'), ('it', 'PPS'), ('has', 'HVZ'), ('been', 'BEN'), ('made', 'VBN'), ('the', 'AT'), ('symbol', 'NN'), ('of', 'IN'), ('the', 'AT'), ('divine', None), ('spotlessness', None), ('and', 'CC'), ('power', 'NN'), (';', '.'), ('by', 'IN'), ('the', 'AT'), ('Persian', 'JJ'), ('fire', 'NN'), ('worshippers', None), (',', ','), ('the', 'AT'), ('white', 'JJ'), ('forked', None), ('flame', None), ('being', 'BEG'), ('held', 'VBN'), ('the', 'AT'), ('holiest', None), ('on', 'IN'), ('the', 'AT'), ('altar', None), (';', '.'), ('and', 'CC'), ('in', 'IN'), ('the', 'AT'), ('Greek', 'JJ'), ('mythologies', None), (',', ','), ('Great', 'JJ-TL'), ('Jove', None), ('himself', 'PPL'), ('being', 'BEG'), ('made', 'VBN'), ('incarnate', None), ('in', 'IN'), ('a', 'AT'), ('snow-white', None), ('bull', 'NN'), (';', '.'), ('and', 'CC'), ('though', 'CS'), ('to', 'TO'), ('the', 'AT'), ('noble', 'JJ'), ('Iroquois', None), (',', ','), ('the', 'AT'), ('midwinter', None), ('sacrifice', 'NN'), ('of', 'IN'), ('the', 'AT'), ('sacred', None), ('White', 'JJ-TL'), ('Dog', None), ('was', 'BEDZ'), ('by', 'IN'), ('far', 'RB'), ('the', 'AT'), ('holiest', None), ('festival', 'NN'), ('of', 'IN'), ('their', 'PP$'), ('theology', None), (',', ','), ('that', 'CS'), ('spotless', None), (',', ','), ('faithful', None), ('creature', 'NN'), ('being', 'BEG'), ('held', 'VBN'), ('the', 'AT'), ('purest', None), ('envoy', None), ('they', 'PPSS'), ('could', 'MD'), ('send', 'VB'), ('to', 'TO'), ('the', 'AT'), ('Great', 'JJ-TL'), ('Spirit', None), ('with', 'IN'), ('the', 'AT'), ('annual', 'JJ'), ('tidings', None), ('of', 'IN'), ('their', 'PP$'), ('own', 'JJ'), ('fidelity', None), (';', '.'), ('and', 'CC'), ('though', 'CS'), ('directly', 'RB'), ('from', 'IN'), ('the', 'AT'), ('Latin', 'JJ-TL'), ('word', 'NN'), ('for', 'IN'), ('white', 'JJ'), (',', ','), ('all', 'ABN'), ('Christian', 'JJ'), ('priests', 'NNS'), ('derive', 'VB'), ('the', 'AT'), ('name', 'NN'), ('of', 'IN'), ('one', 'CD'), ('part', 'NN'), ('of', 'IN'), ('their', 'PP$'), ('sacred', None), ('vesture', None), (',', ','), ('the', 'AT'), ('alb', None), ('or', 'CC'), ('tunic', None), (',', ','), ('worn', 'VBN'), ('beneath', 'IN'), ('the', 'AT'), ('cassock', None), (';', '.'), ('and', 'CC'), ('though', 'CS'), ('among', 'IN'), ('the', 'AT'), ('holy', None), ('pomps', None), ('of', 'IN'), ('the', 'AT'), ('Romish', None), ('faith', 'NN'), (',', ','), ('white', 'JJ'), ('is', 'BEZ'), ('specially', None), ('employed', 'VBN'), ('in', 'IN'), ('the', 'AT'), ('celebration', None), ('of', 'IN'), ('the', 'AT'), ('Passion', None), ('of', 'IN'), ('our', 'PP$'), ('Lord', 'NN-TL'), (';', '.'), ('though', 'CS'), ('in', 'IN'), ('the', 'AT'), ('Vision', None), ('of', 'IN'), ('St.', 'NN-TL'), ('John', 'NP'), (',', ','), ('white', 'JJ'), ('robes', 'NNS'), ('are', 'BER'), ('given', 'VBN'), ('to', 'TO'), ('the', 'AT'), ('redeemed', None), (',', ','), ('and', 'CC'), ('the', 'AT'), ('four-and-twenty', None), ('elders', None), ('stand', 'NN'), ('clothed', None), ('in', 'IN'), ('white', 'JJ'), ('before', 'IN'), ('the', 'AT'), ('great-white', None), ('throne', None), (',', ','), ('and', 'CC'), ('the', 'AT'), ('Holy', 'JJ-TL'), ('One', 'CD'), ('that', 'CS'), ('sitteth', None), ('there', 'EX'), ('white', 'JJ'), ('like', 'CS'), ('wool', 'NN'), (';', '.'), ('yet', 'RB'), ('for', 'IN'), ('all', 'ABN'), ('these', 'DTS'), ('accumulated', None), ('associations', None), (',', ','), ('with', 'IN'), ('whatever', 'WDT'), ('is', 'BEZ'), ('sweet', None), (',', ','), ('and', 'CC'), ('honourable', None), (',', ','), ('and', 'CC'), ('sublime', 'NN'), (',', ','), ('there', 'EX'), ('yet', 'RB'), ('lurks', None), ('an', 'AT'), ('elusive', None), ('something', 'PN'), ('in', 'IN'), ('the', 'AT'), ('innermost', None), ('idea', 'NN'), ('of', 'IN'), ('this', 'DT'), ('hue', None), (',', ','), ('which', 'WDT'), ('strikes', 'NNS'), ('more', 'AP'), ('of', 'IN'), ('panic', 'NN'), ('to', 'TO'), ('the', 'AT'), ('soul', None), ('than', 'IN'), ('that', 'CS'), ('redness', None), ('which', 'WDT'), ('affrights', None), ('in', 'IN'), ('blood', 'NN'), ('.', '.')]\n"
     ]
    }
   ],
   "source": [
    "import nltk\n",
    "from nltk.corpus import brown\n",
    "\n",
    "brown_tagged_sents = brown.tagged_sents(categories='news')\n",
    "unigram_tagger = nltk.UnigramTagger(brown_tagged_sents)\n",
    "\n",
    "text = nltk.corpus.gutenberg.raw('melville-moby_dick.txt')\n",
    "sents = nltk.sent_tokenize(text)\n",
    "longSent = max(sents, key=len)\n",
    "text = nltk.word_tokenize(longSent)\n",
    "print(nltk.pos_tag(text))\n",
    "print()\n",
    "print(unigram_tagger.tag(text))"
   ]
  },
  {
   "cell_type": "markdown",
   "metadata": {},
   "source": [
    "The nltk.pos_tag() uses the Penn Treebank tagset vs the unigram tagger that uses the brown corpus as a training set. so the pos_tag() has a bigger tagset and more training compared the unigram tagger. Therefore the pos_tag() is more accurate and has more tagging. Embedding would make the training better for the unigram tagger."
   ]
  }
 ],
 "metadata": {
  "kernelspec": {
   "display_name": "Python 3",
   "language": "python",
   "name": "python3"
  },
  "language_info": {
   "codemirror_mode": {
    "name": "ipython",
    "version": 3
   },
   "file_extension": ".py",
   "mimetype": "text/x-python",
   "name": "python",
   "nbconvert_exporter": "python",
   "pygments_lexer": "ipython3",
   "version": "3.7.4"
  }
 },
 "nbformat": 4,
 "nbformat_minor": 4
}
