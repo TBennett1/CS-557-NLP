{
 "cells": [
  {
   "cell_type": "markdown",
   "metadata": {},
   "source": [
    "Tarquin Bennett"
   ]
  },
  {
   "cell_type": "markdown",
   "metadata": {},
   "source": [
    "# Question 1"
   ]
  },
  {
   "cell_type": "code",
   "execution_count": 27,
   "metadata": {},
   "outputs": [
    {
     "name": "stdout",
     "output_type": "stream",
     "text": [
      "[[1. 0. 0. 1.]]\n"
     ]
    }
   ],
   "source": [
    "import numpy as np \n",
    "from matplotlib import pyplot as plt \n",
    "\n",
    "def sigmoid(z): \n",
    "    return 1 / (1 + np.exp(-z)) \n",
    "\n",
    "# Initialization of the neural network parameters \n",
    "# Initialized all the weights in the range of between 0 and 1 \n",
    "# Bias values are initialized to 0 \n",
    "def initializeParameters(inputFeatures, neuronsInHiddenLayers, outputFeatures): \n",
    "    W1 = np.random.randn(neuronsInHiddenLayers, inputFeatures) \n",
    "    W2 = np.random.randn(outputFeatures, neuronsInHiddenLayers) \n",
    "    b1 = np.zeros((neuronsInHiddenLayers, 1)) \n",
    "    b2 = np.zeros((outputFeatures, 1)) \n",
    "\n",
    "    parameters = {\"W1\" : W1, \"b1\": b1, \n",
    "                \"W2\" : W2, \"b2\": b2} \n",
    "    return parameters \n",
    "\n",
    "\n",
    "def forwardPropagation(X, Y, parameters): \n",
    "    m = X.shape[1] \n",
    "    W1 = parameters[\"W1\"] \n",
    "    W2 = parameters[\"W2\"] \n",
    "    b1 = parameters[\"b1\"] \n",
    "    b2 = parameters[\"b2\"] \n",
    "\n",
    "    Z1 = np.dot(W1, X) + b1 \n",
    "    A1 = sigmoid(Z1) \n",
    "    Z2 = np.dot(W2, A1) + b2 \n",
    "    A2 = sigmoid(Z2) \n",
    "\n",
    "    cache = (Z1, A1, W1, b1, Z2, A2, W2, b2) \n",
    "    logprobs = np.multiply(np.log(A2), Y) + np.multiply(np.log(1 - A2), (1 - Y)) \n",
    "    cost = -np.sum(logprobs) / m \n",
    "    return cost, cache, A2 \n",
    "\n",
    "def backwardPropagation(X, Y, cache): \n",
    "    m = X.shape[1] \n",
    "    (Z1, A1, W1, b1, Z2, A2, W2, b2) = cache \n",
    "\n",
    "    dZ2 = A2 - Y \n",
    "    dW2 = np.dot(dZ2, A1.T) / m \n",
    "    db2 = np.sum(dZ2, axis = 1, keepdims = True) \n",
    "\n",
    "    dA1 = np.dot(W2.T, dZ2) \n",
    "    dZ1 = np.multiply(dA1, A1 * (1- A1)) \n",
    "    dW1 = np.dot(dZ1, X.T) / m \n",
    "    db1 = np.sum(dZ1, axis = 1, keepdims = True) / m \n",
    "\n",
    "    gradients = {\"dZ2\": dZ2, \"dW2\": dW2, \"db2\": db2, \n",
    "                \"dZ1\": dZ1, \"dW1\": dW1, \"db1\": db1} \n",
    "    return gradients \n",
    "\n",
    "# Updating the weights based on the negative gradients \n",
    "def updateParameters(parameters, gradients, learningRate): \n",
    "    parameters[\"W1\"] = parameters[\"W1\"] - learningRate * gradients[\"dW1\"] \n",
    "    parameters[\"W2\"] = parameters[\"W2\"] - learningRate * gradients[\"dW2\"] \n",
    "    parameters[\"b1\"] = parameters[\"b1\"] - learningRate * gradients[\"db1\"] \n",
    "    parameters[\"b2\"] = parameters[\"b2\"] - learningRate * gradients[\"db2\"] \n",
    "    return parameters\n",
    "\n",
    "# Model to learn the XOR truth table \n",
    "X = np.array([[0, 0, 1, 1], [0, 1, 0, 1]]) # XOR input \n",
    "Y = np.array([[0, 1, 1, 0]]) # XOR output \n",
    "\n",
    "# Define model parameters \n",
    "neuronsInHiddenLayers = 2 # number of hidden layer neurons (2) \n",
    "inputFeatures = X.shape[0] # number of input features (2) \n",
    "outputFeatures = Y.shape[0] # number of output features (1) \n",
    "parameters = initializeParameters(inputFeatures, neuronsInHiddenLayers, outputFeatures) \n",
    "epoch = 100000\n",
    "learningRate = 0.01\n",
    "losses = np.zeros((epoch, 1)) \n",
    "\n",
    "for i in range(epoch): \n",
    "    losses[i, 0], cache, A2 = forwardPropagation(X, Y, parameters) \n",
    "    gradients = backwardPropagation(X, Y, cache) \n",
    "    parameters = updateParameters(parameters, gradients, learningRate) \n",
    "\n",
    "# Testing \n",
    "X = np.array([[1, 1, 0, 0], [0, 1, 0, 1]]) # XOR input \n",
    "cost, _, A2 = forwardPropagation(X, Y, parameters) \n",
    "prediction = (A2 > 0.5) * 1.0\n",
    "# print(A2)\n",
    "print(prediction) "
   ]
  },
  {
   "cell_type": "markdown",
   "metadata": {},
   "source": [
    "The activation function used was the sigmoid function. The wights were random numbers between 0 and 1, and bias starts at 0. Then for the the model is trained for some number, epoch, times and once that is done the parameters will be very accurate. Using forward propagation, which predicts the output, and backward propagation, which goes back knowing the output and adjust the bias and weights. Once that is done we test the model to see how well it does. With this model, the prediction ends up being correct. To be noted, if the learning rate and/or epoch is changed the accuracy will change and either get worst or better."
   ]
  },
  {
   "cell_type": "markdown",
   "metadata": {},
   "source": [
    "# Question 2"
   ]
  },
  {
   "cell_type": "markdown",
   "metadata": {},
   "source": [
    "### 5.1"
   ]
  },
  {
   "cell_type": "markdown",
   "metadata": {},
   "source": [
    "1. I/PRP need/VBP a/DT flight/NN from/IN Atlanta/NN\n",
    "2. Does/VBZ this/DT flight/NN serve/VB dinner/NNS\n",
    "3. I/PRP have/VB a/DT friend/NN living/VBG in/IN Denver/NNP\n",
    "4. Can/VBPyou/PRPlist/VBthe/DTnonstop/JJafternoon/NNflights/NNS"
   ]
  },
  {
   "cell_type": "markdown",
   "metadata": {},
   "source": [
    "1. Atlanta is not NN it is NNP\n",
    "2. dinner is not NNS it is NN\n",
    "3. living is not VBG it is NN\n",
    "4. can is not VBP it is MD"
   ]
  },
  {
   "cell_type": "markdown",
   "metadata": {},
   "source": [
    "### 5.2"
   ]
  },
  {
   "cell_type": "markdown",
   "metadata": {},
   "source": [
    "1. It/PRP is/VB a/DT nice/JJ night/NN.\n",
    "2. This/DT crap/JJ game/NN is/DT over/IN a/DT garage/NN in/IN Fifty-second/CD Street/NNP. . .\n",
    "3. ...Nobody/NN ever/RB takes/VBZ the/DT newspapers/NN she/PRP sells/VBZ...\n",
    "4. He/PRP is/VBZ a/DT tall/JJ, skinny/JJ guy/NN with/IN a/DT long/RB, sad/JJ, mean-looking/JJ kisser/NN, and/CC a/DT mournful/JJ voice/NN.\n",
    "5. ...I/PRP am/VB sitting/VBG in/DT Mindy/NNP ’s/POS restaurant/NN putting/VBG on/IN the/DT gefillte/JJ fish/NN,which/WDT is/VBZ a/DT dish/NN I/PRP am/VB very/JJ fond/JJ of/IN, ...\n",
    "6. When/WRB a/DT guy/NN and/CC a/DT doll/NN get/VB to/TO taking/VBG peeks/VBZ back/RB and/CC forth/RB at/IN each/DT other/JJ, why/WRB there/EX you/PRP are/VBP indeed/RB."
   ]
  },
  {
   "cell_type": "markdown",
   "metadata": {},
   "source": [
    "### 5.3"
   ]
  },
  {
   "cell_type": "markdown",
   "metadata": {},
   "source": [
    "We disagreed on 'back' and 'forth' from 6. It is because they do not follow the general rule of being an adverb, that being ending in 'ly'."
   ]
  },
  {
   "cell_type": "markdown",
   "metadata": {},
   "source": [
    "### 5.11"
   ]
  },
  {
   "cell_type": "code",
   "execution_count": 7,
   "metadata": {},
   "outputs": [],
   "source": [
    "import re\n",
    "from collections import Counter\n",
    "\n",
    "def words(text): return re.findall(r'\\w+', text.lower())\n",
    "\n",
    "WORDS = Counter(words(open('big.txt').read()))\n",
    "\n",
    "def P(word, N=sum(WORDS.values())): \n",
    "    \"Probability of `word`.\"\n",
    "    return WORDS[word] / N\n",
    "\n",
    "def correction(word): \n",
    "    \"Most probable spelling correction for word.\"\n",
    "    return max(candidates(word), key=P)\n",
    "\n",
    "def candidates(word): \n",
    "    \"Generate possible spelling corrections for word.\"\n",
    "    return (known([word]) or known(edits1(word)) or known(edits2(word)) or know(edits3(word)) or [word])\n",
    "\n",
    "def known(words): \n",
    "    \"The subset of `words` that appear in the dictionary of WORDS.\"\n",
    "    return set(w for w in words if w in WORDS)\n",
    "\n",
    "def edits1(word):\n",
    "    \"All edits that are one edit away from `word`.\"\n",
    "    letters    = 'abcdefghijklmnopqrstuvwxyz'\n",
    "    splits     = [(word[:i], word[i:])    for i in range(len(word) + 1)]\n",
    "    deletes    = [L + R[1:]               for L, R in splits if R]\n",
    "    transposes = [L + R[1] + R[0] + R[2:] for L, R in splits if len(R)>1]\n",
    "    replaces   = [L + c + R[1:]           for L, R in splits if R for c in letters]\n",
    "    inserts    = [L + c + R               for L, R in splits for c in letters]\n",
    "    return set(deletes + transposes + replaces + inserts)\n",
    "\n",
    "def edits2(word): \n",
    "    \"All edits that are two edits away from `word`.\"\n",
    "    return (e2 for e1 in edits1(word) for e2 in edits1(e1))\n",
    "\n",
    "def edits3(word):\n",
    "    return (e3 for e3 in edits2(word))"
   ]
  },
  {
   "cell_type": "markdown",
   "metadata": {},
   "source": [
    "By adding edits3 we now can get all words that are two edits away from 'word'. this is helpful cause that leads to less un-correct corrections."
   ]
  },
  {
   "cell_type": "markdown",
   "metadata": {},
   "source": [
    "# Question 3 "
   ]
  },
  {
   "cell_type": "markdown",
   "metadata": {},
   "source": [
    "### Your Turn 1"
   ]
  },
  {
   "cell_type": "code",
   "execution_count": 5,
   "metadata": {},
   "outputs": [
    {
     "name": "stdout",
     "output_type": "stream",
     "text": [
      "[('My', 'PRP$'), ('conduct', 'NN'), ('is', 'VBZ'), ('always', 'RB'), ('professional', 'JJ'), ('.', '.')]\n",
      "[('I', 'PRP'), ('conduct', 'VBP'), ('myself', 'PRP'), ('in', 'IN'), ('a', 'DT'), ('professional', 'JJ'), ('manner', 'NN'), ('.', '.')]\n",
      "\n",
      "[('She', 'PRP'), ('asked', 'VBD'), ('for', 'IN'), ('a', 'DT'), ('refund', 'NN'), ('because', 'IN'), ('the', 'DT'), ('product', 'NN'), ('was', 'VBD'), ('defective', 'JJ'), ('.', '.')]\n",
      "[('Should', 'MD'), ('we', 'PRP'), ('refund', 'VB'), ('their', 'PRP$'), ('money', 'NN'), ('?', '.')]\n"
     ]
    }
   ],
   "source": [
    "import nltk\n",
    "\n",
    "text1 = nltk.word_tokenize(\"My conduct is always professional.\")\n",
    "text2 = nltk.word_tokenize(\"I conduct myself in a professional manner.\")\n",
    "\n",
    "text3 = nltk.word_tokenize(\"She asked for a refund because the product was defective.\")\n",
    "text4 = nltk.word_tokenize(\"Should we refund their money?\")\n",
    "\n",
    "print(nltk.pos_tag(text1))\n",
    "print(nltk.pos_tag(text2))\n",
    "print()\n",
    "print(nltk.pos_tag(text3))\n",
    "print(nltk.pos_tag(text4))"
   ]
  },
  {
   "cell_type": "markdown",
   "metadata": {},
   "source": [
    "The words dont change meaning but their parts of speech do change. That has to do with their placement and surrounding words. Also when speaking different syllables are stressed."
   ]
  },
  {
   "cell_type": "markdown",
   "metadata": {},
   "source": [
    "### Your Turn 2"
   ]
  },
  {
   "cell_type": "code",
   "execution_count": 13,
   "metadata": {},
   "outputs": [
    {
     "name": "stdout",
     "output_type": "stream",
     "text": [
      "100554\n",
      "[('NOUN', 30654), ('VERB', 14399), ('ADP', 12355), ('.', 11928), ('DET', 11389), ('ADJ', 6706), ('ADV', 3349), ('CONJ', 2717), ('PRON', 2535), ('PRT', 2264), ('NUM', 2166), ('X', 92)]\n"
     ]
    },
    {
     "data": {
      "image/png": "[encoded data removed]",
      "text/plain": [
       "<Figure size 432x288 with 1 Axes>"
      ]
     },
     "metadata": {
      "needs_background": "light"
     },
     "output_type": "display_data"
    },
    {
     "data": {
      "text/plain": [
       "<matplotlib.axes._subplots.AxesSubplot at 0x7fd69696f310>"
      ]
     },
     "execution_count": 13,
     "metadata": {},
     "output_type": "execute_result"
    }
   ],
   "source": [
    "from nltk.corpus import brown\n",
    "brown_news_tagged = brown.tagged_words(categories='news', tagset='universal')\n",
    "tot = len(brown_news_tagged)\n",
    "tag_fd = nltk.FreqDist(tag for (word, tag) in brown_news_tagged)\n",
    "print(tag_fd.most_common())\n",
    "tag_fd.plot(cumulative=True)"
   ]
  },
  {
   "cell_type": "code",
   "execution_count": 16,
   "metadata": {},
   "outputs": [
    {
     "name": "stdout",
     "output_type": "stream",
     "text": [
      "[0.30485112476878096, 0.1431966903355411, 0.12286930405553236, 0.11862282952443463, 0.11326252560813095]\n"
     ]
    }
   ],
   "source": [
    "percent = []\n",
    "for tag in tag_fd.most_common():\n",
    "    percent.append(tag[1]/tot)\n",
    "print(percent[:5])"
   ]
  },
  {
   "cell_type": "markdown",
   "metadata": {},
   "source": [
    "above are the percent of the first five tags above. This makes sense since 30% of words are nouns and nouns are the biggest group of words. and then next is verbs."
   ]
  },
  {
   "cell_type": "markdown",
   "metadata": {},
   "source": [
    "### Your Turn 3"
   ]
  },
  {
   "cell_type": "code",
   "execution_count": 29,
   "metadata": {},
   "outputs": [
    {
     "name": "stdout",
     "output_type": "stream",
     "text": [
      "[('had', 'VBD'), ('the', 'DT'), ('collections', 'NNS'), (',', ','), (',', ','), ('once', 'RB'), ('supercomputers', 'NNS'), ('were', 'VBD'), ('was', 'VBD'), ('are', 'VBP'), ('was', 'VBD'), ('were', 'VBD'), ('is', 'VBZ'), ('was', 'VBD'), ('publicly', 'RB'), ('gradually', 'RB'), ('had', 'VBD'), ('Documents', 'NNS'), ('be', 'VB'), ('been', 'VBN'), ('fields', 'NNS'), (\"n't\", 'RB'), ('were', 'VBD'), ('has', 'VBZ'), ('has', 'VBZ'), ('been', 'VBN'), (',', ','), ('was', 'VBD'), ('has', 'VBZ'), ('is', 'VBZ'), ('be', 'VB'), (',', ','), ('has', 'VBZ'), ('have', 'VBP'), ('has', 'VBZ'), ('are', 'VBP'), ('was', 'VBD'), ('ever', 'RB'), ('convertible', 'JJ'), ('group', 'NN'), ('amount', 'NN'), ('a', 'DT'), ('*RNR*-1', '-NONE-'), ('has', 'VBZ'), ('fraud', 'NN'), (\"n't\", 'RB'), ('was', 'VBD'), ('were', 'VBD'), (\"n't\", 'RB'), ('was', 'VBD')]\n"
     ]
    }
   ],
   "source": [
    "wsj = nltk.corpus.treebank.tagged_words()\n",
    "cfd2 = nltk.ConditionalFreqDist((tag, word) for (word, tag) in wsj)\n",
    "lst = []\n",
    "lstPP = list(cfd2['VBN'])\n",
    "\n",
    "for i in lstPP[:50]:\n",
    "    idx = wsj.index((i,'VBN'))\n",
    "    lst.append(wsj[idx-1])\n",
    "print(lst)"
   ]
  },
  {
   "cell_type": "markdown",
   "metadata": {},
   "source": [
    "Above is the first 50 items in the list, and this shows us that a big group of words that immediately precede are past tense verbs."
   ]
  },
  {
   "cell_type": "markdown",
   "metadata": {},
   "source": [
    "### Your Turn 4 "
   ]
  },
  {
   "cell_type": "code",
   "execution_count": 31,
   "metadata": {},
   "outputs": [],
   "source": [
    "nltk.app.concordance()"
   ]
  },
  {
   "cell_type": "markdown",
   "metadata": {},
   "source": [
    "This is a great way to see how words can have different parts of speech and how the surrounding words change it."
   ]
  },
  {
   "cell_type": "markdown",
   "metadata": {},
   "source": [
    "# Question 4"
   ]
  },
  {
   "cell_type": "code",
   "execution_count": 33,
   "metadata": {},
   "outputs": [
    {
     "name": "stdout",
     "output_type": "stream",
     "text": [
      "*** Introductory Examples for the NLTK Book ***\n",
      "Loading text1, ..., text9 and sent1, ..., sent9\n",
      "Type the name of the text or sentence to view it.\n",
      "Type: 'texts()' or 'sents()' to list the materials.\n",
      "text1: Moby Dick by Herman Melville 1851\n",
      "text2: Sense and Sensibility by Jane Austen 1811\n",
      "text3: The Book of Genesis\n",
      "text4: Inaugural Address Corpus\n",
      "text5: Chat Corpus\n",
      "text6: Monty Python and the Holy Grail\n",
      "text7: Wall Street Journal\n",
      "text8: Personals Corpus\n",
      "text9: The Man Who Was Thursday by G . K . Chesterton 1908\n"
     ]
    }
   ],
   "source": [
    "from nltk.book import *"
   ]
  },
  {
   "cell_type": "code",
   "execution_count": 54,
   "metadata": {},
   "outputs": [
    {
     "name": "stdout",
     "output_type": "stream",
     "text": [
      "425 Though in many natural objects, whiteness refiningly enhances beauty,\r\n",
      "as if imparting some special virtue of its own, as in marbles,\r\n",
      "japonicas, and pearls; and though various nations have in some way\r\n",
      "recognised a certain royal preeminence in this hue; even the\r\n",
      "barbaric, grand old kings of Pegu placing the title \"Lord of the\r\n",
      "White Elephants\" above all their other magniloquent ascriptions of\r\n",
      "dominion; and the modern kings of Siam unfurling the same snow-white\r\n",
      "quadruped in the royal standard; and the Hanoverian flag bearing the\r\n",
      "one figure of a snow-white charger; and the great Austrian Empire,\r\n",
      "Caesarian, heir to overlording Rome, having for the imperial colour\r\n",
      "the same imperial hue; and though this pre-eminence in it applies to\r\n",
      "the human race itself, giving the white man ideal mastership over\r\n",
      "every dusky tribe; and though, besides, all this, whiteness has been\r\n",
      "even made significant of gladness, for among the Romans a white stone\r\n",
      "marked a joyful day; and though in other mortal sympathies and\r\n",
      "symbolizings, this same hue is made the emblem of many touching,\r\n",
      "noble things--the innocence of brides, the benignity of age; though\r\n",
      "among the Red Men of America the giving of the white belt of wampum\r\n",
      "was the deepest pledge of honour; though in many climes, whiteness\r\n",
      "typifies the majesty of Justice in the ermine of the Judge, and\r\n",
      "contributes to the daily state of kings and queens drawn by\r\n",
      "milk-white steeds; though even in the higher mysteries of the most\r\n",
      "august religions it has been made the symbol of the divine\r\n",
      "spotlessness and power; by the Persian fire worshippers, the white\r\n",
      "forked flame being held the holiest on the altar; and in the Greek\r\n",
      "mythologies, Great Jove himself being made incarnate in a snow-white\r\n",
      "bull; and though to the noble Iroquois, the midwinter sacrifice of\r\n",
      "the sacred White Dog was by far the holiest festival of their\r\n",
      "theology, that spotless, faithful creature being held the purest\r\n",
      "envoy they could send to the Great Spirit with the annual tidings of\r\n",
      "their own fidelity; and though directly from the Latin word for\r\n",
      "white, all Christian priests derive the name of one part of their\r\n",
      "sacred vesture, the alb or tunic, worn beneath the cassock; and\r\n",
      "though among the holy pomps of the Romish faith, white is specially\r\n",
      "employed in the celebration of the Passion of our Lord; though in the\r\n",
      "Vision of St. John, white robes are given to the redeemed, and the\r\n",
      "four-and-twenty elders stand clothed in white before the great-white\r\n",
      "throne, and the Holy One that sitteth there white like wool; yet for\r\n",
      "all these accumulated associations, with whatever is sweet, and\r\n",
      "honourable, and sublime, there yet lurks an elusive something in the\r\n",
      "innermost idea of this hue, which strikes more of panic to the soul\r\n",
      "than that redness which affrights in blood.\n"
     ]
    }
   ],
   "source": [
    "text = nltk.corpus.gutenberg.raw('melville-moby_dick.txt')\n",
    "sents = nltk.sent_tokenize(text)\n",
    "longSent = max(sents, key=len)\n",
    "length = len(longSent.split(' '))\n",
    "print(length,longSent)"
   ]
  },
  {
   "cell_type": "code",
   "execution_count": 55,
   "metadata": {},
   "outputs": [
    {
     "data": {
      "text/plain": [
       "(453,\n",
       " ['Though',\n",
       "  'in',\n",
       "  'many',\n",
       "  'natural',\n",
       "  'objects',\n",
       "  ',',\n",
       "  'whiteness',\n",
       "  'refiningly',\n",
       "  'enhances',\n",
       "  'beauty',\n",
       "  ',',\n",
       "  'as',\n",
       "  'if',\n",
       "  'imparting',\n",
       "  'some',\n",
       "  'special',\n",
       "  'virtue',\n",
       "  'of',\n",
       "  'its',\n",
       "  'own',\n",
       "  ',',\n",
       "  'as',\n",
       "  'in',\n",
       "  'marbles',\n",
       "  ',',\n",
       "  'japonicas',\n",
       "  ',',\n",
       "  'and',\n",
       "  'pearls',\n",
       "  ';',\n",
       "  'and',\n",
       "  'though',\n",
       "  'various',\n",
       "  'nations',\n",
       "  'have',\n",
       "  'in',\n",
       "  'some',\n",
       "  'way',\n",
       "  'recognised',\n",
       "  'a',\n",
       "  'certain',\n",
       "  'royal',\n",
       "  'preeminence',\n",
       "  'in',\n",
       "  'this',\n",
       "  'hue',\n",
       "  ';',\n",
       "  'even',\n",
       "  'the',\n",
       "  'barbaric',\n",
       "  ',',\n",
       "  'grand',\n",
       "  'old',\n",
       "  'kings',\n",
       "  'of',\n",
       "  'Pegu',\n",
       "  'placing',\n",
       "  'the',\n",
       "  'title',\n",
       "  '\"',\n",
       "  'Lord',\n",
       "  'of',\n",
       "  'the',\n",
       "  'White',\n",
       "  'Elephants',\n",
       "  '\"',\n",
       "  'above',\n",
       "  'all',\n",
       "  'their',\n",
       "  'other',\n",
       "  'magniloquent',\n",
       "  'ascriptions',\n",
       "  'of',\n",
       "  'dominion',\n",
       "  ';',\n",
       "  'and',\n",
       "  'the',\n",
       "  'modern',\n",
       "  'kings',\n",
       "  'of',\n",
       "  'Siam',\n",
       "  'unfurling',\n",
       "  'the',\n",
       "  'same',\n",
       "  'snow',\n",
       "  '-',\n",
       "  'white',\n",
       "  'quadruped',\n",
       "  'in',\n",
       "  'the',\n",
       "  'royal',\n",
       "  'standard',\n",
       "  ';',\n",
       "  'and',\n",
       "  'the',\n",
       "  'Hanoverian',\n",
       "  'flag',\n",
       "  'bearing',\n",
       "  'the',\n",
       "  'one',\n",
       "  'figure',\n",
       "  'of',\n",
       "  'a',\n",
       "  'snow',\n",
       "  '-',\n",
       "  'white',\n",
       "  'charger',\n",
       "  ';',\n",
       "  'and',\n",
       "  'the',\n",
       "  'great',\n",
       "  'Austrian',\n",
       "  'Empire',\n",
       "  ',',\n",
       "  'Caesarian',\n",
       "  ',',\n",
       "  'heir',\n",
       "  'to',\n",
       "  'overlording',\n",
       "  'Rome',\n",
       "  ',',\n",
       "  'having',\n",
       "  'for',\n",
       "  'the',\n",
       "  'imperial',\n",
       "  'colour',\n",
       "  'the',\n",
       "  'same',\n",
       "  'imperial',\n",
       "  'hue',\n",
       "  ';',\n",
       "  'and',\n",
       "  'though',\n",
       "  'this',\n",
       "  'pre',\n",
       "  '-',\n",
       "  'eminence',\n",
       "  'in',\n",
       "  'it',\n",
       "  'applies',\n",
       "  'to',\n",
       "  'the',\n",
       "  'human',\n",
       "  'race',\n",
       "  'itself',\n",
       "  ',',\n",
       "  'giving',\n",
       "  'the',\n",
       "  'white',\n",
       "  'man',\n",
       "  'ideal',\n",
       "  'mastership',\n",
       "  'over',\n",
       "  'every',\n",
       "  'dusky',\n",
       "  'tribe',\n",
       "  ';',\n",
       "  'and',\n",
       "  'though',\n",
       "  ',',\n",
       "  'besides',\n",
       "  ',',\n",
       "  'all',\n",
       "  'this',\n",
       "  ',',\n",
       "  'whiteness',\n",
       "  'has',\n",
       "  'been',\n",
       "  'even',\n",
       "  'made',\n",
       "  'significant',\n",
       "  'of',\n",
       "  'gladness',\n",
       "  ',',\n",
       "  'for',\n",
       "  'among',\n",
       "  'the',\n",
       "  'Romans',\n",
       "  'a',\n",
       "  'white',\n",
       "  'stone',\n",
       "  'marked',\n",
       "  'a',\n",
       "  'joyful',\n",
       "  'day',\n",
       "  ';',\n",
       "  'and',\n",
       "  'though',\n",
       "  'in',\n",
       "  'other',\n",
       "  'mortal',\n",
       "  'sympathies',\n",
       "  'and',\n",
       "  'symbolizings',\n",
       "  ',',\n",
       "  'this',\n",
       "  'same',\n",
       "  'hue',\n",
       "  'is',\n",
       "  'made',\n",
       "  'the',\n",
       "  'emblem',\n",
       "  'of',\n",
       "  'many',\n",
       "  'touching',\n",
       "  ',',\n",
       "  'noble',\n",
       "  'things',\n",
       "  '--',\n",
       "  'the',\n",
       "  'innocence',\n",
       "  'of',\n",
       "  'brides',\n",
       "  ',',\n",
       "  'the',\n",
       "  'benignity',\n",
       "  'of',\n",
       "  'age',\n",
       "  ';',\n",
       "  'though',\n",
       "  'among',\n",
       "  'the',\n",
       "  'Red',\n",
       "  'Men',\n",
       "  'of',\n",
       "  'America',\n",
       "  'the',\n",
       "  'giving',\n",
       "  'of',\n",
       "  'the',\n",
       "  'white',\n",
       "  'belt',\n",
       "  'of',\n",
       "  'wampum',\n",
       "  'was',\n",
       "  'the',\n",
       "  'deepest',\n",
       "  'pledge',\n",
       "  'of',\n",
       "  'honour',\n",
       "  ';',\n",
       "  'though',\n",
       "  'in',\n",
       "  'many',\n",
       "  'climes',\n",
       "  ',',\n",
       "  'whiteness',\n",
       "  'typifies',\n",
       "  'the',\n",
       "  'majesty',\n",
       "  'of',\n",
       "  'Justice',\n",
       "  'in',\n",
       "  'the',\n",
       "  'ermine',\n",
       "  'of',\n",
       "  'the',\n",
       "  'Judge',\n",
       "  ',',\n",
       "  'and',\n",
       "  'contributes',\n",
       "  'to',\n",
       "  'the',\n",
       "  'daily',\n",
       "  'state',\n",
       "  'of',\n",
       "  'kings',\n",
       "  'and',\n",
       "  'queens',\n",
       "  'drawn',\n",
       "  'by',\n",
       "  'milk',\n",
       "  '-',\n",
       "  'white',\n",
       "  'steeds',\n",
       "  ';',\n",
       "  'though',\n",
       "  'even',\n",
       "  'in',\n",
       "  'the',\n",
       "  'higher',\n",
       "  'mysteries',\n",
       "  'of',\n",
       "  'the',\n",
       "  'most',\n",
       "  'august',\n",
       "  'religions',\n",
       "  'it',\n",
       "  'has',\n",
       "  'been',\n",
       "  'made',\n",
       "  'the',\n",
       "  'symbol',\n",
       "  'of',\n",
       "  'the',\n",
       "  'divine',\n",
       "  'spotlessness',\n",
       "  'and',\n",
       "  'power',\n",
       "  ';',\n",
       "  'by',\n",
       "  'the',\n",
       "  'Persian',\n",
       "  'fire',\n",
       "  'worshippers',\n",
       "  ',',\n",
       "  'the',\n",
       "  'white',\n",
       "  'forked',\n",
       "  'flame',\n",
       "  'being',\n",
       "  'held',\n",
       "  'the',\n",
       "  'holiest',\n",
       "  'on',\n",
       "  'the',\n",
       "  'altar',\n",
       "  ';',\n",
       "  'and',\n",
       "  'in',\n",
       "  'the',\n",
       "  'Greek',\n",
       "  'mythologies',\n",
       "  ',',\n",
       "  'Great',\n",
       "  'Jove',\n",
       "  'himself',\n",
       "  'being',\n",
       "  'made',\n",
       "  'incarnate',\n",
       "  'in',\n",
       "  'a',\n",
       "  'snow',\n",
       "  '-',\n",
       "  'white',\n",
       "  'bull',\n",
       "  ';',\n",
       "  'and',\n",
       "  'though',\n",
       "  'to',\n",
       "  'the',\n",
       "  'noble',\n",
       "  'Iroquois',\n",
       "  ',',\n",
       "  'the',\n",
       "  'midwinter',\n",
       "  'sacrifice',\n",
       "  'of',\n",
       "  'the',\n",
       "  'sacred',\n",
       "  'White',\n",
       "  'Dog',\n",
       "  'was',\n",
       "  'by',\n",
       "  'far',\n",
       "  'the',\n",
       "  'holiest',\n",
       "  'festival',\n",
       "  'of',\n",
       "  'their',\n",
       "  'theology',\n",
       "  ',',\n",
       "  'that',\n",
       "  'spotless',\n",
       "  ',',\n",
       "  'faithful',\n",
       "  'creature',\n",
       "  'being',\n",
       "  'held',\n",
       "  'the',\n",
       "  'purest',\n",
       "  'envoy',\n",
       "  'they',\n",
       "  'could',\n",
       "  'send',\n",
       "  'to',\n",
       "  'the',\n",
       "  'Great',\n",
       "  'Spirit',\n",
       "  'with',\n",
       "  'the',\n",
       "  'annual',\n",
       "  'tidings',\n",
       "  'of',\n",
       "  'their',\n",
       "  'own',\n",
       "  'fidelity',\n",
       "  ';',\n",
       "  'and',\n",
       "  'though',\n",
       "  'directly',\n",
       "  'from',\n",
       "  'the',\n",
       "  'Latin',\n",
       "  'word',\n",
       "  'for',\n",
       "  'white',\n",
       "  ',',\n",
       "  'all',\n",
       "  'Christian',\n",
       "  'priests',\n",
       "  'derive',\n",
       "  'the',\n",
       "  'name',\n",
       "  'of',\n",
       "  'one',\n",
       "  'part',\n",
       "  'of',\n",
       "  'their',\n",
       "  'sacred',\n",
       "  'vesture',\n",
       "  ',',\n",
       "  'the',\n",
       "  'alb',\n",
       "  'or',\n",
       "  'tunic',\n",
       "  ',',\n",
       "  'worn',\n",
       "  'beneath',\n",
       "  'the',\n",
       "  'cassock',\n",
       "  ';',\n",
       "  'and',\n",
       "  'though',\n",
       "  'among',\n",
       "  'the',\n",
       "  'holy',\n",
       "  'pomps',\n",
       "  'of',\n",
       "  'the',\n",
       "  'Romish',\n",
       "  'faith',\n",
       "  ',',\n",
       "  'white',\n",
       "  'is',\n",
       "  'specially',\n",
       "  'employed',\n",
       "  'in',\n",
       "  'the',\n",
       "  'celebration',\n",
       "  'of',\n",
       "  'the',\n",
       "  'Passion',\n",
       "  'of',\n",
       "  'our',\n",
       "  'Lord',\n",
       "  ';',\n",
       "  'though',\n",
       "  'in',\n",
       "  'the',\n",
       "  'Vision',\n",
       "  'of',\n",
       "  'St'])"
      ]
     },
     "execution_count": 55,
     "metadata": {},
     "output_type": "execute_result"
    }
   ],
   "source": [
    "def longestSent(book):\n",
    "    sentEnders = ['.','!','?']\n",
    "    lst = [w for w in book]\n",
    "    totalCount=[]\n",
    "    currCount=0\n",
    "    currSent=[]\n",
    "    for i in lst:\n",
    "        if i in sentEnders:\n",
    "            totalCount.append((currCount,currSent))\n",
    "            currCount, currSent = 0,[]\n",
    "        else:\n",
    "            currCount+=1\n",
    "            currSent.append(i)\n",
    "    return max(totalCount)\n",
    "longestSent(text1)"
   ]
  },
  {
   "cell_type": "markdown",
   "metadata": {},
   "source": [
    "These are the same sentence. The original method did stop shorter because of the word \"St.\" since there is a period. The count also included punctuation that wasnt a sentence ender. However the new method has to use the raw text so stuff such as \"\\n,\\t,\\r\" are shown so some words get combined since that is suppose to be used as a word separator. "
   ]
  },
  {
   "cell_type": "code",
   "execution_count": null,
   "metadata": {},
   "outputs": [],
   "source": []
  }
 ],
 "metadata": {
  "kernelspec": {
   "display_name": "Python 3",
   "language": "python",
   "name": "python3"
  },
  "language_info": {
   "codemirror_mode": {
    "name": "ipython",
    "version": 3
   },
   "file_extension": ".py",
   "mimetype": "text/x-python",
   "name": "python",
   "nbconvert_exporter": "python",
   "pygments_lexer": "ipython3",
   "version": "3.7.4"
  }
 },
 "nbformat": 4,
 "nbformat_minor": 4
}
